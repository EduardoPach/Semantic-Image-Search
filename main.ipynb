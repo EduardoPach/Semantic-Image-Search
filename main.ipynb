{
 "cells": [
  {
   "cell_type": "code",
   "execution_count": 1,
   "metadata": {},
   "outputs": [],
   "source": [
    "import os\n",
    "import shutil\n",
    "import requests\n",
    "from io import BytesIO\n",
    "from pathlib import Path\n",
    "\n",
    "import torch\n",
    "import numpy as np\n",
    "import pandas as pd\n",
    "from PIL import Image\n",
    "from tqdm import tqdm\n",
    "from transformers import CLIPModel, CLIPProcessor, CLIPVisionModel\n",
    "\n",
    "from api import utils"
   ]
  },
  {
   "cell_type": "code",
   "execution_count": 2,
   "metadata": {},
   "outputs": [],
   "source": [
    "model = CLIPModel.from_pretrained(\"openai/clip-vit-base-patch32\")\n",
    "processor = CLIPProcessor.from_pretrained(\"openai/clip-vit-base-patch32\")\n",
    "\n",
    "device = \"cuda\" if torch.cuda.is_available() else \"cpu\""
   ]
  },
  {
   "cell_type": "code",
   "execution_count": 3,
   "metadata": {},
   "outputs": [],
   "source": [
    "data = pd.read_csv(\"data.csv\")"
   ]
  },
  {
   "cell_type": "code",
   "execution_count": 4,
   "metadata": {},
   "outputs": [
    {
     "data": {
      "text/html": [
       "<div>\n",
       "<style scoped>\n",
       "    .dataframe tbody tr th:only-of-type {\n",
       "        vertical-align: middle;\n",
       "    }\n",
       "\n",
       "    .dataframe tbody tr th {\n",
       "        vertical-align: top;\n",
       "    }\n",
       "\n",
       "    .dataframe thead th {\n",
       "        text-align: right;\n",
       "    }\n",
       "</style>\n",
       "<table border=\"1\" class=\"dataframe\">\n",
       "  <thead>\n",
       "    <tr style=\"text-align: right;\">\n",
       "      <th></th>\n",
       "      <th>link</th>\n",
       "      <th>path</th>\n",
       "      <th>tooltip</th>\n",
       "    </tr>\n",
       "  </thead>\n",
       "  <tbody>\n",
       "    <tr>\n",
       "      <th>0</th>\n",
       "      <td>https://unsplash.com/photos/XMyPniM9LF0</td>\n",
       "      <td>https://images.unsplash.com/uploads/1411949294...</td>\n",
       "      <td>\"Woman exploring a forest\" by Michelle Spencer</td>\n",
       "    </tr>\n",
       "    <tr>\n",
       "      <th>1</th>\n",
       "      <td>https://unsplash.com/photos/rDLBArZUl1c</td>\n",
       "      <td>https://images.unsplash.com/photo-141633941111...</td>\n",
       "      <td>\"Succulents in a terrarium\" by Jeff Sheldon</td>\n",
       "    </tr>\n",
       "    <tr>\n",
       "      <th>2</th>\n",
       "      <td>https://unsplash.com/photos/cNDGZ2sQ3Bo</td>\n",
       "      <td>https://images.unsplash.com/photo-142014251503...</td>\n",
       "      <td>\"Rural winter mountainside\" by John Price</td>\n",
       "    </tr>\n",
       "    <tr>\n",
       "      <th>3</th>\n",
       "      <td>https://unsplash.com/photos/iuZ_D1eoq9k</td>\n",
       "      <td>https://images.unsplash.com/photo-141487280988...</td>\n",
       "      <td>\"Poppy seeds and flowers\" by Kris Atomic</td>\n",
       "    </tr>\n",
       "    <tr>\n",
       "      <th>4</th>\n",
       "      <td>https://unsplash.com/photos/BeD3vjQ8SI0</td>\n",
       "      <td>https://images.unsplash.com/photo-141700759404...</td>\n",
       "      <td>\"Silhouette near dark trees\" by Jonas Eriksson</td>\n",
       "    </tr>\n",
       "  </tbody>\n",
       "</table>\n",
       "</div>"
      ],
      "text/plain": [
       "                                      link  \\\n",
       "0  https://unsplash.com/photos/XMyPniM9LF0   \n",
       "1  https://unsplash.com/photos/rDLBArZUl1c   \n",
       "2  https://unsplash.com/photos/cNDGZ2sQ3Bo   \n",
       "3  https://unsplash.com/photos/iuZ_D1eoq9k   \n",
       "4  https://unsplash.com/photos/BeD3vjQ8SI0   \n",
       "\n",
       "                                                path  \\\n",
       "0  https://images.unsplash.com/uploads/1411949294...   \n",
       "1  https://images.unsplash.com/photo-141633941111...   \n",
       "2  https://images.unsplash.com/photo-142014251503...   \n",
       "3  https://images.unsplash.com/photo-141487280988...   \n",
       "4  https://images.unsplash.com/photo-141700759404...   \n",
       "\n",
       "                                          tooltip  \n",
       "0  \"Woman exploring a forest\" by Michelle Spencer  \n",
       "1     \"Succulents in a terrarium\" by Jeff Sheldon  \n",
       "2       \"Rural winter mountainside\" by John Price  \n",
       "3        \"Poppy seeds and flowers\" by Kris Atomic  \n",
       "4  \"Silhouette near dark trees\" by Jonas Eriksson  "
      ]
     },
     "execution_count": 4,
     "metadata": {},
     "output_type": "execute_result"
    }
   ],
   "source": [
    "data.head()"
   ]
  },
  {
   "cell_type": "code",
   "execution_count": 5,
   "metadata": {},
   "outputs": [],
   "source": [
    "urls = data[\"path\"].tolist()\n",
    "batch_generator = utils.ImageBatchGenerator(urls)"
   ]
  },
  {
   "cell_type": "code",
   "execution_count": 6,
   "metadata": {},
   "outputs": [],
   "source": [
    "def load_image(url: str) -> Image.Image:\n",
    "    img_bytes = requests.get(url).content\n",
    "    return Image.open(BytesIO(img_bytes))"
   ]
  },
  {
   "cell_type": "code",
   "execution_count": 7,
   "metadata": {},
   "outputs": [
    {
     "name": "stdout",
     "output_type": "stream",
     "text": [
      "Failed at index: 163\n",
      "Failed at index: 2799\n"
     ]
    }
   ],
   "source": [
    "no_images = []\n",
    "for i in range(len(urls)):\n",
    "    try:\n",
    "        load_image(urls[i])\n",
    "    except:\n",
    "        print(f\"Failed at index: {i}\")\n",
    "        no_images.append(i)"
   ]
  },
  {
   "cell_type": "code",
   "execution_count": 8,
   "metadata": {},
   "outputs": [
    {
     "name": "stdout",
     "output_type": "stream",
     "text": [
      "0\n",
      "1\n",
      "2\n",
      "3\n",
      "4\n"
     ]
    },
    {
     "ename": "UnidentifiedImageError",
     "evalue": "cannot identify image file <_io.BytesIO object at 0x00000186015B2A90>",
     "output_type": "error",
     "traceback": [
      "\u001b[1;31m---------------------------------------------------------------------------\u001b[0m",
      "\u001b[1;31mUnidentifiedImageError\u001b[0m                    Traceback (most recent call last)",
      "Cell \u001b[1;32mIn[8], line 1\u001b[0m\n\u001b[1;32m----> 1\u001b[0m \u001b[39mfor\u001b[39;00m idx, batch \u001b[39min\u001b[39;00m \u001b[39menumerate\u001b[39m(batch_generator):\n\u001b[0;32m      2\u001b[0m     \u001b[39mprint\u001b[39m(idx)\n",
      "File \u001b[1;32mc:\\Users\\Eduardo Pacheco\\Desktop\\Arquivos\\Personal\\Semantic-Image-Search\\api\\utils.py:89\u001b[0m, in \u001b[0;36mImageBatchGenerator.__next__\u001b[1;34m(self)\u001b[0m\n\u001b[0;32m     87\u001b[0m end \u001b[39m=\u001b[39m \u001b[39mmin\u001b[39m(start \u001b[39m+\u001b[39m \u001b[39mself\u001b[39m\u001b[39m.\u001b[39mbatch_size, \u001b[39mlen\u001b[39m(\u001b[39mself\u001b[39m\u001b[39m.\u001b[39murls))\n\u001b[0;32m     88\u001b[0m \u001b[39mself\u001b[39m\u001b[39m.\u001b[39mcurrent_index \u001b[39m=\u001b[39m end\n\u001b[1;32m---> 89\u001b[0m \u001b[39mreturn\u001b[39;00m [\u001b[39mself\u001b[39m\u001b[39m.\u001b[39m_load_image(url) \u001b[39mfor\u001b[39;00m url \u001b[39min\u001b[39;00m \u001b[39mself\u001b[39m\u001b[39m.\u001b[39murls[start:end]]\n",
      "File \u001b[1;32mc:\\Users\\Eduardo Pacheco\\Desktop\\Arquivos\\Personal\\Semantic-Image-Search\\api\\utils.py:89\u001b[0m, in \u001b[0;36m<listcomp>\u001b[1;34m(.0)\u001b[0m\n\u001b[0;32m     87\u001b[0m end \u001b[39m=\u001b[39m \u001b[39mmin\u001b[39m(start \u001b[39m+\u001b[39m \u001b[39mself\u001b[39m\u001b[39m.\u001b[39mbatch_size, \u001b[39mlen\u001b[39m(\u001b[39mself\u001b[39m\u001b[39m.\u001b[39murls))\n\u001b[0;32m     88\u001b[0m \u001b[39mself\u001b[39m\u001b[39m.\u001b[39mcurrent_index \u001b[39m=\u001b[39m end\n\u001b[1;32m---> 89\u001b[0m \u001b[39mreturn\u001b[39;00m [\u001b[39mself\u001b[39;49m\u001b[39m.\u001b[39;49m_load_image(url) \u001b[39mfor\u001b[39;00m url \u001b[39min\u001b[39;00m \u001b[39mself\u001b[39m\u001b[39m.\u001b[39murls[start:end]]\n",
      "File \u001b[1;32mc:\\Users\\Eduardo Pacheco\\Desktop\\Arquivos\\Personal\\Semantic-Image-Search\\api\\utils.py:72\u001b[0m, in \u001b[0;36mImageBatchGenerator._load_image\u001b[1;34m(url)\u001b[0m\n\u001b[0;32m     69\u001b[0m \u001b[39m@staticmethod\u001b[39m\n\u001b[0;32m     70\u001b[0m \u001b[39mdef\u001b[39;00m \u001b[39m_load_image\u001b[39m(url: \u001b[39mstr\u001b[39m) \u001b[39m-\u001b[39m\u001b[39m>\u001b[39m Image\u001b[39m.\u001b[39mImage:\n\u001b[0;32m     71\u001b[0m     img_bytes \u001b[39m=\u001b[39m requests\u001b[39m.\u001b[39mget(url)\u001b[39m.\u001b[39mcontent\n\u001b[1;32m---> 72\u001b[0m     \u001b[39mreturn\u001b[39;00m Image\u001b[39m.\u001b[39;49mopen(BytesIO(img_bytes))\n",
      "File \u001b[1;32mc:\\Users\\Eduardo Pacheco\\.virtualenvs\\Semantic-Image-Search-ZEfAZOxG\\lib\\site-packages\\PIL\\Image.py:3283\u001b[0m, in \u001b[0;36mopen\u001b[1;34m(fp, mode, formats)\u001b[0m\n\u001b[0;32m   3281\u001b[0m     warnings\u001b[39m.\u001b[39mwarn(message)\n\u001b[0;32m   3282\u001b[0m msg \u001b[39m=\u001b[39m \u001b[39m\"\u001b[39m\u001b[39mcannot identify image file \u001b[39m\u001b[39m%r\u001b[39;00m\u001b[39m\"\u001b[39m \u001b[39m%\u001b[39m (filename \u001b[39mif\u001b[39;00m filename \u001b[39melse\u001b[39;00m fp)\n\u001b[1;32m-> 3283\u001b[0m \u001b[39mraise\u001b[39;00m UnidentifiedImageError(msg)\n",
      "\u001b[1;31mUnidentifiedImageError\u001b[0m: cannot identify image file <_io.BytesIO object at 0x00000186015B2A90>"
     ]
    }
   ],
   "source": [
    "for idx, batch in enumerate(batch_generator):\n",
    "    print(idx)"
   ]
  },
  {
   "cell_type": "code",
   "execution_count": 6,
   "metadata": {},
   "outputs": [
    {
     "name": "stderr",
     "output_type": "stream",
     "text": [
      " 16%|█▌        | 5/32 [04:58<26:52, 59.71s/it]\n"
     ]
    },
    {
     "ename": "UnidentifiedImageError",
     "evalue": "cannot identify image file <_io.BytesIO object at 0x0000014E3A808590>",
     "output_type": "error",
     "traceback": [
      "\u001b[1;31m---------------------------------------------------------------------------\u001b[0m",
      "\u001b[1;31mUnidentifiedImageError\u001b[0m                    Traceback (most recent call last)",
      "Cell \u001b[1;32mIn[6], line 1\u001b[0m\n\u001b[1;32m----> 1\u001b[0m utils\u001b[39m.\u001b[39;49mcompute_dataset_visual_embedding(model, processor, batch_generator)\n",
      "File \u001b[1;32mc:\\Users\\Eduardo Pacheco\\Desktop\\Arquivos\\Personal\\Semantic-Image-Search\\api\\utils.py:121\u001b[0m, in \u001b[0;36mcompute_dataset_visual_embedding\u001b[1;34m(model, processor, batch_generator, embedding_file_name, embeddings_dir_path, embeddings_temp_dir_path, device)\u001b[0m\n\u001b[0;32m    119\u001b[0m embeddings_temp_dir \u001b[39m=\u001b[39m Path(embeddings_temp_dir_path)\n\u001b[0;32m    120\u001b[0m embeddings_dir \u001b[39m=\u001b[39m Path(embeddings_dir_path)\n\u001b[1;32m--> 121\u001b[0m \u001b[39mfor\u001b[39;00m batch_idx, batch \u001b[39min\u001b[39;00m \u001b[39menumerate\u001b[39m(loop):\n\u001b[0;32m    122\u001b[0m     embedding \u001b[39m=\u001b[39m compute_embedding(model, processor, batch, device\u001b[39m=\u001b[39mdevice)\u001b[39m.\u001b[39mdetach()\u001b[39m.\u001b[39mnumpy()\n\u001b[0;32m    123\u001b[0m     embedding_name \u001b[39m=\u001b[39m embeddings_temp_dir \u001b[39m/\u001b[39m \u001b[39mf\u001b[39m\u001b[39m\"\u001b[39m\u001b[39m{\u001b[39;00mbatch_idx\u001b[39m:\u001b[39;00m\u001b[39m05d\u001b[39m\u001b[39m}\u001b[39;00m\u001b[39m.npy\u001b[39m\u001b[39m\"\u001b[39m\n",
      "File \u001b[1;32mc:\\Users\\Eduardo Pacheco\\.virtualenvs\\Semantic-Image-Search-ZEfAZOxG\\lib\\site-packages\\tqdm\\std.py:1195\u001b[0m, in \u001b[0;36mtqdm.__iter__\u001b[1;34m(self)\u001b[0m\n\u001b[0;32m   1192\u001b[0m time \u001b[39m=\u001b[39m \u001b[39mself\u001b[39m\u001b[39m.\u001b[39m_time\n\u001b[0;32m   1194\u001b[0m \u001b[39mtry\u001b[39;00m:\n\u001b[1;32m-> 1195\u001b[0m     \u001b[39mfor\u001b[39;00m obj \u001b[39min\u001b[39;00m iterable:\n\u001b[0;32m   1196\u001b[0m         \u001b[39myield\u001b[39;00m obj\n\u001b[0;32m   1197\u001b[0m         \u001b[39m# Update and possibly print the progressbar.\u001b[39;00m\n\u001b[0;32m   1198\u001b[0m         \u001b[39m# Note: does not call self.update(1) for speed optimisation.\u001b[39;00m\n",
      "File \u001b[1;32mc:\\Users\\Eduardo Pacheco\\Desktop\\Arquivos\\Personal\\Semantic-Image-Search\\api\\utils.py:87\u001b[0m, in \u001b[0;36mImageBatchGenerator.__next__\u001b[1;34m(self)\u001b[0m\n\u001b[0;32m     85\u001b[0m end \u001b[39m=\u001b[39m \u001b[39mmin\u001b[39m(start \u001b[39m+\u001b[39m \u001b[39mself\u001b[39m\u001b[39m.\u001b[39mbatch_size, \u001b[39mlen\u001b[39m(\u001b[39mself\u001b[39m\u001b[39m.\u001b[39murls))\n\u001b[0;32m     86\u001b[0m \u001b[39mself\u001b[39m\u001b[39m.\u001b[39mcurrent_index \u001b[39m=\u001b[39m end\n\u001b[1;32m---> 87\u001b[0m \u001b[39mreturn\u001b[39;00m [\u001b[39mself\u001b[39m\u001b[39m.\u001b[39m_load_image(url) \u001b[39mfor\u001b[39;00m url \u001b[39min\u001b[39;00m \u001b[39mself\u001b[39m\u001b[39m.\u001b[39murls[start:end]]\n",
      "File \u001b[1;32mc:\\Users\\Eduardo Pacheco\\Desktop\\Arquivos\\Personal\\Semantic-Image-Search\\api\\utils.py:87\u001b[0m, in \u001b[0;36m<listcomp>\u001b[1;34m(.0)\u001b[0m\n\u001b[0;32m     85\u001b[0m end \u001b[39m=\u001b[39m \u001b[39mmin\u001b[39m(start \u001b[39m+\u001b[39m \u001b[39mself\u001b[39m\u001b[39m.\u001b[39mbatch_size, \u001b[39mlen\u001b[39m(\u001b[39mself\u001b[39m\u001b[39m.\u001b[39murls))\n\u001b[0;32m     86\u001b[0m \u001b[39mself\u001b[39m\u001b[39m.\u001b[39mcurrent_index \u001b[39m=\u001b[39m end\n\u001b[1;32m---> 87\u001b[0m \u001b[39mreturn\u001b[39;00m [\u001b[39mself\u001b[39;49m\u001b[39m.\u001b[39;49m_load_image(url) \u001b[39mfor\u001b[39;00m url \u001b[39min\u001b[39;00m \u001b[39mself\u001b[39m\u001b[39m.\u001b[39murls[start:end]]\n",
      "File \u001b[1;32mc:\\Users\\Eduardo Pacheco\\Desktop\\Arquivos\\Personal\\Semantic-Image-Search\\api\\utils.py:72\u001b[0m, in \u001b[0;36mImageBatchGenerator._load_image\u001b[1;34m(url)\u001b[0m\n\u001b[0;32m     69\u001b[0m \u001b[39m@staticmethod\u001b[39m\n\u001b[0;32m     70\u001b[0m \u001b[39mdef\u001b[39;00m \u001b[39m_load_image\u001b[39m(url: \u001b[39mstr\u001b[39m) \u001b[39m-\u001b[39m\u001b[39m>\u001b[39m Image\u001b[39m.\u001b[39mImage:\n\u001b[0;32m     71\u001b[0m     img_bytes \u001b[39m=\u001b[39m requests\u001b[39m.\u001b[39mget(url)\u001b[39m.\u001b[39mcontent\n\u001b[1;32m---> 72\u001b[0m     \u001b[39mreturn\u001b[39;00m Image\u001b[39m.\u001b[39;49mopen(BytesIO(img_bytes))\n",
      "File \u001b[1;32mc:\\Users\\Eduardo Pacheco\\.virtualenvs\\Semantic-Image-Search-ZEfAZOxG\\lib\\site-packages\\PIL\\Image.py:3283\u001b[0m, in \u001b[0;36mopen\u001b[1;34m(fp, mode, formats)\u001b[0m\n\u001b[0;32m   3281\u001b[0m     warnings\u001b[39m.\u001b[39mwarn(message)\n\u001b[0;32m   3282\u001b[0m msg \u001b[39m=\u001b[39m \u001b[39m\"\u001b[39m\u001b[39mcannot identify image file \u001b[39m\u001b[39m%r\u001b[39;00m\u001b[39m\"\u001b[39m \u001b[39m%\u001b[39m (filename \u001b[39mif\u001b[39;00m filename \u001b[39melse\u001b[39;00m fp)\n\u001b[1;32m-> 3283\u001b[0m \u001b[39mraise\u001b[39;00m UnidentifiedImageError(msg)\n",
      "\u001b[1;31mUnidentifiedImageError\u001b[0m: cannot identify image file <_io.BytesIO object at 0x0000014E3A808590>"
     ]
    }
   ],
   "source": [
    "utils.compute_dataset_visual_embedding(model, processor, batch_generator)"
   ]
  }
 ],
 "metadata": {
  "kernelspec": {
   "display_name": "Semantic-Image-Search-ZEfAZOxG",
   "language": "python",
   "name": "python3"
  },
  "language_info": {
   "codemirror_mode": {
    "name": "ipython",
    "version": 3
   },
   "file_extension": ".py",
   "mimetype": "text/x-python",
   "name": "python",
   "nbconvert_exporter": "python",
   "pygments_lexer": "ipython3",
   "version": "3.9.6"
  },
  "orig_nbformat": 4,
  "vscode": {
   "interpreter": {
    "hash": "7401a353ce2dd121b7d3fab1957dcd50998dbd7b4248af763a802babaa88e763"
   }
  }
 },
 "nbformat": 4,
 "nbformat_minor": 2
}
